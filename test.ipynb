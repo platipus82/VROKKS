{
 "cells": [
  {
   "cell_type": "markdown",
   "source": [
    "## Test project\n",
    "* Requirements\n",
    "    * Stocks folder [Huge Stock Market Dataset (BORIS MARJANOVIC, Kaggle)](https://www.kaggle.com/datasets/borismarjanovic/price-volume-data-for-all-us-stocks-etfs)\n",
    "\n",
    "Note: All code has been generated using ChatGPT.\n",
    "\n",
    "Idea\n",
    "* Load data\n",
    "* Create event variables for larger dips\n",
    "* Run a machine learning algorithm on these data\n",
    "\n",
    "Let us start by loading data for one stock. Let us also plot the value of the stock for the entire time period to confirm that the data were loaded correctly."
   ],
   "metadata": {
    "collapsed": false
   }
  },
  {
   "cell_type": "code",
   "execution_count": 18,
   "metadata": {
    "collapsed": true
   },
   "outputs": [
    {
     "data": {
      "text/plain": "<Figure size 720x432 with 1 Axes>",
      "image/png": "[encoded data removed]"
     },
     "metadata": {
      "needs_background": "light"
     },
     "output_type": "display_data"
    }
   ],
   "source": [
    "import pandas as pd\n",
    "import matplotlib.pyplot as plt\n",
    "\n",
    "# Define the file path for Apple stock data\n",
    "apple_stock_file = 'Stocks/aapl.us.txt'  # Update the file path based on the file's location\n",
    "\n",
    "# Load the data into a pandas DataFrame\n",
    "apple_stock_data = pd.read_csv(apple_stock_file)\n",
    "\n",
    "# Convert the 'Date' column to a datetime object\n",
    "apple_stock_data['Date'] = pd.to_datetime(apple_stock_data['Date'])\n",
    "\n",
    "# Plotting the Close prices over time\n",
    "plt.figure(figsize=(10, 6))\n",
    "plt.plot(apple_stock_data['Date'], apple_stock_data['Close'], color='blue')\n",
    "plt.title('Apple Stock Close Prices Over Time')\n",
    "plt.xlabel('Date')\n",
    "plt.ylabel('Close Price')\n",
    "plt.xticks(rotation=45)  # Rotate x-axis labels for better readability\n",
    "plt.tight_layout()\n",
    "plt.show()\n"
   ]
  },
  {
   "cell_type": "markdown",
   "source": [
    "It appears that the data have been loaded successfully."
   ],
   "metadata": {
    "collapsed": false
   }
  },
  {
   "cell_type": "markdown",
   "source": [
    "Next, let us generate the event variables."
   ],
   "metadata": {
    "collapsed": false
   }
  },
  {
   "cell_type": "code",
   "execution_count": 27,
   "outputs": [
    {
     "data": {
      "text/plain": "        Date     Open     High      Low    Close    Volume  OpenInt  \\\n0 1984-09-07  0.42388  0.42902  0.41874  0.42388  23220030        0   \n1 1984-09-10  0.42388  0.42516  0.41366  0.42134  18022532        0   \n2 1984-09-11  0.42516  0.43668  0.42516  0.42902  42498199        0   \n3 1984-09-12  0.42902  0.43157  0.41618  0.41618  37125801        0   \n4 1984-09-13  0.43927  0.44052  0.43927  0.43927  57822062        0   \n\n   Daily_Return  event1  event2  \n0           NaN   False   False  \n1     -0.599226   False   False  \n2      1.822756   False   False  \n3     -2.992867    True   False  \n4      5.548080   False   False  ",
      "text/html": "<div>\n<style scoped>\n    .dataframe tbody tr th:only-of-type {\n        vertical-align: middle;\n    }\n\n    .dataframe tbody tr th {\n        vertical-align: top;\n    }\n\n    .dataframe thead th {\n        text-align: right;\n    }\n</style>\n<table border=\"1\" class=\"dataframe\">\n  <thead>\n    <tr style=\"text-align: right;\">\n      <th></th>\n      <th>Date</th>\n      <th>Open</th>\n      <th>High</th>\n      <th>Low</th>\n      <th>Close</th>\n      <th>Volume</th>\n      <th>OpenInt</th>\n      <th>Daily_Return</th>\n      <th>event1</th>\n      <th>event2</th>\n    </tr>\n  </thead>\n  <tbody>\n    <tr>\n      <th>0</th>\n      <td>1984-09-07</td>\n      <td>0.42388</td>\n      <td>0.42902</td>\n      <td>0.41874</td>\n      <td>0.42388</td>\n      <td>23220030</td>\n      <td>0</td>\n      <td>NaN</td>\n      <td>False</td>\n      <td>False</td>\n    </tr>\n    <tr>\n      <th>1</th>\n      <td>1984-09-10</td>\n      <td>0.42388</td>\n      <td>0.42516</td>\n      <td>0.41366</td>\n      <td>0.42134</td>\n      <td>18022532</td>\n      <td>0</td>\n      <td>-0.599226</td>\n      <td>False</td>\n      <td>False</td>\n    </tr>\n    <tr>\n      <th>2</th>\n      <td>1984-09-11</td>\n      <td>0.42516</td>\n      <td>0.43668</td>\n      <td>0.42516</td>\n      <td>0.42902</td>\n      <td>42498199</td>\n      <td>0</td>\n      <td>1.822756</td>\n      <td>False</td>\n      <td>False</td>\n    </tr>\n    <tr>\n      <th>3</th>\n      <td>1984-09-12</td>\n      <td>0.42902</td>\n      <td>0.43157</td>\n      <td>0.41618</td>\n      <td>0.41618</td>\n      <td>37125801</td>\n      <td>0</td>\n      <td>-2.992867</td>\n      <td>True</td>\n      <td>False</td>\n    </tr>\n    <tr>\n      <th>4</th>\n      <td>1984-09-13</td>\n      <td>0.43927</td>\n      <td>0.44052</td>\n      <td>0.43927</td>\n      <td>0.43927</td>\n      <td>57822062</td>\n      <td>0</td>\n      <td>5.548080</td>\n      <td>False</td>\n      <td>False</td>\n    </tr>\n  </tbody>\n</table>\n</div>"
     },
     "execution_count": 27,
     "metadata": {},
     "output_type": "execute_result"
    }
   ],
   "source": [
    "# Calculate daily percentage change in Close price\n",
    "apple_stock_data['Daily_Return'] = apple_stock_data['Close'].pct_change() * 100\n",
    "\n",
    "# Set threshold values for events\n",
    "threshold_1 = -1  # 1% dip\n",
    "threshold_10 = -10  # 10% dip\n",
    "\n",
    "# Create 'event1' for a 1% dip\n",
    "apple_stock_data['event1'] = apple_stock_data['Daily_Return'] <= threshold_1\n",
    "\n",
    "# Create 'event2' for a 10% dip\n",
    "apple_stock_data['event2'] = apple_stock_data['Daily_Return'] <= threshold_10\n",
    "\n",
    "# Display the modified DataFrame\n",
    "apple_stock_data.head()\n"
   ],
   "metadata": {
    "collapsed": false
   }
  },
  {
   "cell_type": "markdown",
   "source": [
    "Above we have created two variables: `event1` and `event2` which correspond to a $1\\%$ and a $10\\%$ decrease respectively in the stock's value in one day."
   ],
   "metadata": {
    "collapsed": false
   }
  },
  {
   "cell_type": "code",
   "execution_count": 20,
   "outputs": [
    {
     "name": "stdout",
     "output_type": "stream",
     "text": [
      "Frequency of 1% dip (event1): 29.73%\n",
      "Frequency of 10% dip (event2): 0.26%\n"
     ]
    }
   ],
   "source": [
    "# Calculate frequency of event1 (5% dip) and event2 (10% dip)\n",
    "event1_count = apple_stock_data['event1'].sum()\n",
    "event2_count = apple_stock_data['event2'].sum()\n",
    "\n",
    "# Total number of data points\n",
    "total_data_points = len(apple_stock_data)\n",
    "\n",
    "# Calculate frequencies\n",
    "event1_frequency = event1_count / total_data_points\n",
    "event2_frequency = event2_count / total_data_points\n",
    "\n",
    "print(f\"Frequency of 1% dip (event1): {event1_frequency * 100:.2f}%\")\n",
    "print(f\"Frequency of 10% dip (event2): {event2_frequency * 100:.2f}%\")\n"
   ],
   "metadata": {
    "collapsed": false
   }
  },
  {
   "cell_type": "markdown",
   "source": [
    "Next, let us try to train a machine learning algorithm to predict when these events take place. Let us first try to predict the $1\\%$ dips."
   ],
   "metadata": {
    "collapsed": false
   }
  },
  {
   "cell_type": "code",
   "execution_count": 25,
   "outputs": [
    {
     "name": "stdout",
     "output_type": "stream",
     "text": [
      "Accuracy: 0.6705\n",
      "Classification Report:\n",
      "              precision    recall  f1-score   support\n",
      "\n",
      "       False       0.67      0.99      0.80       349\n",
      "        True       0.56      0.03      0.05       173\n",
      "\n",
      "    accuracy                           0.67       522\n",
      "   macro avg       0.61      0.51      0.43       522\n",
      "weighted avg       0.63      0.67      0.55       522\n",
      "\n",
      "Accuracy: 0.7739\n",
      "Classification Report:\n",
      "              precision    recall  f1-score   support\n",
      "\n",
      "       False       0.83      0.85      0.84       364\n",
      "        True       0.64      0.59      0.61       158\n",
      "\n",
      "    accuracy                           0.77       522\n",
      "   macro avg       0.73      0.72      0.73       522\n",
      "weighted avg       0.77      0.77      0.77       522\n",
      "\n",
      "Accuracy: 0.7375\n",
      "Classification Report:\n",
      "              precision    recall  f1-score   support\n",
      "\n",
      "       False       0.78      0.84      0.81       351\n",
      "        True       0.62      0.53      0.57       171\n",
      "\n",
      "    accuracy                           0.74       522\n",
      "   macro avg       0.70      0.68      0.69       522\n",
      "weighted avg       0.73      0.74      0.73       522\n",
      "\n",
      "Accuracy: 0.7280\n",
      "Classification Report:\n",
      "              precision    recall  f1-score   support\n",
      "\n",
      "       False       0.74      0.88      0.80       331\n",
      "        True       0.69      0.46      0.55       191\n",
      "\n",
      "    accuracy                           0.73       522\n",
      "   macro avg       0.72      0.67      0.68       522\n",
      "weighted avg       0.72      0.73      0.71       522\n",
      "\n",
      "Accuracy: 0.7433\n",
      "Classification Report:\n",
      "              precision    recall  f1-score   support\n",
      "\n",
      "       False       0.79      0.83      0.81       345\n",
      "        True       0.63      0.58      0.61       177\n",
      "\n",
      "    accuracy                           0.74       522\n",
      "   macro avg       0.71      0.70      0.71       522\n",
      "weighted avg       0.74      0.74      0.74       522\n",
      "\n",
      "Accuracy: 0.7529\n",
      "Classification Report:\n",
      "              precision    recall  f1-score   support\n",
      "\n",
      "       False       0.76      0.89      0.82       322\n",
      "        True       0.74      0.54      0.63       200\n",
      "\n",
      "    accuracy                           0.75       522\n",
      "   macro avg       0.75      0.71      0.72       522\n",
      "weighted avg       0.75      0.75      0.74       522\n",
      "\n",
      "Accuracy: 0.7050\n",
      "Classification Report:\n",
      "              precision    recall  f1-score   support\n",
      "\n",
      "       False       0.69      0.92      0.79       313\n",
      "        True       0.77      0.38      0.51       209\n",
      "\n",
      "    accuracy                           0.70       522\n",
      "   macro avg       0.73      0.65      0.65       522\n",
      "weighted avg       0.72      0.70      0.68       522\n",
      "\n",
      "Accuracy: 0.8582\n",
      "Classification Report:\n",
      "              precision    recall  f1-score   support\n",
      "\n",
      "       False       0.85      0.94      0.89       333\n",
      "        True       0.87      0.71      0.78       189\n",
      "\n",
      "    accuracy                           0.86       522\n",
      "   macro avg       0.86      0.83      0.84       522\n",
      "weighted avg       0.86      0.86      0.85       522\n",
      "\n",
      "Accuracy: 0.7222\n",
      "Classification Report:\n",
      "              precision    recall  f1-score   support\n",
      "\n",
      "       False       0.89      0.71      0.79       381\n",
      "        True       0.49      0.77      0.60       141\n",
      "\n",
      "    accuracy                           0.72       522\n",
      "   macro avg       0.69      0.74      0.69       522\n",
      "weighted avg       0.78      0.72      0.74       522\n",
      "\n",
      "Accuracy: 0.7299\n",
      "Classification Report:\n",
      "              precision    recall  f1-score   support\n",
      "\n",
      "       False       0.73      0.99      0.84       384\n",
      "        True       0.00      0.00      0.00       138\n",
      "\n",
      "    accuracy                           0.73       522\n",
      "   macro avg       0.37      0.50      0.42       522\n",
      "weighted avg       0.54      0.73      0.62       522\n",
      "\n",
      "Accuracy: 0.6858\n",
      "Classification Report:\n",
      "              precision    recall  f1-score   support\n",
      "\n",
      "       False       0.68      1.00      0.81       343\n",
      "        True       1.00      0.08      0.15       179\n",
      "\n",
      "    accuracy                           0.69       522\n",
      "   macro avg       0.84      0.54      0.48       522\n",
      "weighted avg       0.79      0.69      0.58       522\n",
      "\n",
      "Accuracy: 0.7950\n",
      "Classification Report:\n",
      "              precision    recall  f1-score   support\n",
      "\n",
      "       False       0.80      0.99      0.89       416\n",
      "        True       0.40      0.02      0.04       106\n",
      "\n",
      "    accuracy                           0.80       522\n",
      "   macro avg       0.60      0.51      0.46       522\n",
      "weighted avg       0.72      0.80      0.71       522\n",
      "\n",
      "Accuracy: 0.7605\n",
      "Classification Report:\n",
      "              precision    recall  f1-score   support\n",
      "\n",
      "       False       0.79      0.94      0.86       407\n",
      "        True       0.38      0.13      0.19       115\n",
      "\n",
      "    accuracy                           0.76       522\n",
      "   macro avg       0.58      0.53      0.53       522\n",
      "weighted avg       0.70      0.76      0.71       522\n",
      "\n",
      "Accuracy: 0.8180\n",
      "Classification Report:\n",
      "              precision    recall  f1-score   support\n",
      "\n",
      "       False       0.82      1.00      0.90       428\n",
      "        True       0.33      0.01      0.02        94\n",
      "\n",
      "    accuracy                           0.82       522\n",
      "   macro avg       0.58      0.50      0.46       522\n",
      "weighted avg       0.73      0.82      0.74       522\n",
      "\n",
      "Accuracy: 0.8812\n",
      "Classification Report:\n",
      "              precision    recall  f1-score   support\n",
      "\n",
      "       False       0.88      1.00      0.94       453\n",
      "        True       0.89      0.12      0.21        69\n",
      "\n",
      "    accuracy                           0.88       522\n",
      "   macro avg       0.88      0.56      0.57       522\n",
      "weighted avg       0.88      0.88      0.84       522\n",
      "\n"
     ]
    }
   ],
   "source": [
    "from sklearn.model_selection import TimeSeriesSplit\n",
    "from sklearn.metrics import accuracy_score, classification_report\n",
    "from sklearn.linear_model import LogisticRegression\n",
    "\n",
    "from sklearn.ensemble import RandomForestClassifier\n",
    "import warnings\n",
    "from sklearn.exceptions import UndefinedMetricWarning\n",
    "\n",
    "# Suppress warnings\n",
    "warnings.filterwarnings(\"ignore\", category=UndefinedMetricWarning)\n",
    "\n",
    "\n",
    "# Features (X) and Target variable (y)\n",
    "# Considering 'Open', 'High', 'Low', 'Close', 'Volume' as features for simplicity\n",
    "features = ['Open', 'High', 'Low', 'Close', 'Volume']\n",
    "X = apple_stock_data[features]\n",
    "y = apple_stock_data['event1']  # Change to 'event2' for 10% dip\n",
    "\n",
    "# Define the number of splits for time series cross-validation\n",
    "n_splits = 15 # You can adjust this value\n",
    "\n",
    "# Initialize TimeSeriesSplit\n",
    "tscv = TimeSeriesSplit(n_splits=n_splits)\n",
    "\n",
    "# Initialize Random Forest model\n",
    "forest_model = RandomForestClassifier(n_estimators=100)  # You can adjust parameters\n",
    "\n",
    "# Perform time series cross-validation\n",
    "for train_index, test_index in tscv.split(X):\n",
    "    X_train, X_test = X.iloc[train_index], X.iloc[test_index]\n",
    "    y_train, y_test = y.iloc[train_index], y.iloc[test_index]\n",
    "\n",
    "    forest_model.fit(X_train, y_train)\n",
    "    y_pred = forest_model.predict(X_test)\n",
    "\n",
    "    accuracy = accuracy_score(y_test, y_pred)\n",
    "    classification_rep = classification_report(y_test, y_pred)\n",
    "\n",
    "    print(f\"Accuracy: {accuracy:.4f}\")\n",
    "    print(\"Classification Report:\")\n",
    "    print(classification_rep)"
   ],
   "metadata": {
    "collapsed": false
   }
  },
  {
   "cell_type": "markdown",
   "source": [],
   "metadata": {
    "collapsed": false
   }
  }
 ],
 "metadata": {
  "kernelspec": {
   "display_name": "Python 3",
   "language": "python",
   "name": "python3"
  },
  "language_info": {
   "codemirror_mode": {
    "name": "ipython",
    "version": 2
   },
   "file_extension": ".py",
   "mimetype": "text/x-python",
   "name": "python",
   "nbconvert_exporter": "python",
   "pygments_lexer": "ipython2",
   "version": "2.7.6"
  }
 },
 "nbformat": 4,
 "nbformat_minor": 0
}
