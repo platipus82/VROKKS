{
 "cells": [
  {
   "cell_type": "code",
   "execution_count": null,
   "metadata": {},
   "outputs": [],
   "source": [
    "# 0. Dependencies\n",
    "\n",
    "import pandas as pd\n",
    "#from PIL import Image\n",
    "import numpy as np\n",
    "from sklearn.model_selection import train_test_split\n",
    "from sklearn.linear_model import LogisticRegression\n",
    "from sklearn.metrics import accuracy_score\n",
    "from sklearn.dummy import DummyClassifier # source: https://scikit-learn.org/stable/modules/generated/sklearn.dummy.DummyClassifier.html\n",
    "import matplotlib.pyplot as plt\n",
    "\n",
    "\n",
    "# 1. Data loading\n",
    "def give_data(data=\"real\"):\n",
    "\n",
    "    if data==\"real\":\n",
    "        #  1. Read in\n",
    "        path =  \"xxx.csv\"\n",
    "        df = pd.read_csv(path)\n",
    "\n",
    "        # 2. Column subset\n",
    "        cols = [col for col in df.columns]\n",
    "\n",
    "        # 3. Row subset - e.g. filter rows by something \n",
    "        df_labels = df[(df['col1'] >= 70) & (df['col1'] < 80)]\n",
    "\n",
    "        # 4. Labels and data\n",
    "        data = df.drop(columns=['labels'])\n",
    "        labels = df_labels[\"labels\"].values # assuming thet labels are stored in this column. \n",
    "        return labels,data\n",
    "    \n",
    "    elif data==\"fake\":\n",
    "        X, y = load_breast_cancer()\n",
    "        return X,y\n",
    "\n",
    " \n",
    "\n",
    "\n",
    "labels,data = give_data()\n",
    "\n",
    "# Split the data into train and test sets (e.g., 80% train, 20% test)\n",
    "X_train, X_test, y_train, y_test = train_test_split(data, labels, test_size=0.2, random_state=69)"
   ]
  }
 ],
 "metadata": {
  "language_info": {
   "name": "python"
  }
 },
 "nbformat": 4,
 "nbformat_minor": 2
}
